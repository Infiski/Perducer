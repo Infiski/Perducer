{
 "cells": [
  {
   "cell_type": "markdown",
   "id": "1024f563-799e-41e5-b94c-7e3482c6cc5d",
   "metadata": {},
   "source": [
    "# KeyPhrases Extraction of `news.tsv`"
   ]
  },
  {
   "cell_type": "code",
   "execution_count": 2,
   "id": "7d470406-dd02-4a7c-8098-b2f83c95742b",
   "metadata": {},
   "outputs": [],
   "source": [
    "import pandas as pd"
   ]
  },
  {
   "cell_type": "code",
   "execution_count": 3,
   "id": "665edd98-5f32-4eb3-8361-35518884ec85",
   "metadata": {},
   "outputs": [
    {
     "data": {
      "text/plain": [
       "131072"
      ]
     },
     "execution_count": 3,
     "metadata": {},
     "output_type": "execute_result"
    }
   ],
   "source": [
    "# In order to solve\n",
    "# ParserError: field larger than field limit (131072)\n",
    "import csv\n",
    "import sys\n",
    "\n",
    "# Increase the field size limit to the maximum allowed by the system\n",
    "csv.field_size_limit(10**7)"
   ]
  },
  {
   "cell_type": "code",
   "execution_count": 4,
   "id": "b2684ff3-8b1f-4da0-a8d3-2091b53c9af9",
   "metadata": {},
   "outputs": [],
   "source": [
    "news_df = pd.read_csv('./data/news.tsv', sep='\\t', engine='python')"
   ]
  },
  {
   "cell_type": "code",
   "execution_count": 7,
   "id": "f4b942ae-4c53-415e-8692-e5ac23a51d3e",
   "metadata": {
    "scrolled": true
   },
   "outputs": [
    {
     "data": {
      "text/html": [
       "<div>\n",
       "<style scoped>\n",
       "    .dataframe tbody tr th:only-of-type {\n",
       "        vertical-align: middle;\n",
       "    }\n",
       "\n",
       "    .dataframe tbody tr th {\n",
       "        vertical-align: top;\n",
       "    }\n",
       "\n",
       "    .dataframe thead th {\n",
       "        text-align: right;\n",
       "    }\n",
       "</style>\n",
       "<table border=\"1\" class=\"dataframe\">\n",
       "  <thead>\n",
       "    <tr style=\"text-align: right;\">\n",
       "      <th></th>\n",
       "      <th>News ID</th>\n",
       "      <th>Category</th>\n",
       "      <th>Topic</th>\n",
       "      <th>Headline</th>\n",
       "      <th>News body</th>\n",
       "      <th>Title entity</th>\n",
       "      <th>Entity content</th>\n",
       "    </tr>\n",
       "  </thead>\n",
       "  <tbody>\n",
       "    <tr>\n",
       "      <th>0</th>\n",
       "      <td>N10000</td>\n",
       "      <td>sports</td>\n",
       "      <td>soccer</td>\n",
       "      <td>Predicting Atlanta United's lineup against Col...</td>\n",
       "      <td>Only FIVE internationals allowed, count em, FI...</td>\n",
       "      <td>{\"Atlanta United's\": 'Atlanta United FC'}</td>\n",
       "      <td>{'Atlanta United FC': {'type': 'item', 'id': '...</td>\n",
       "    </tr>\n",
       "    <tr>\n",
       "      <th>1</th>\n",
       "      <td>N10001</td>\n",
       "      <td>news</td>\n",
       "      <td>newspolitics</td>\n",
       "      <td>Mitch McConnell: DC statehood push is 'full bo...</td>\n",
       "      <td>WASHINGTON -- Senate Majority Leader Mitch McC...</td>\n",
       "      <td>{'DC': 'Washington, D.C.'}</td>\n",
       "      <td>{'Washington, D.C.': {'type': 'item', 'id': 'Q...</td>\n",
       "    </tr>\n",
       "    <tr>\n",
       "      <th>2</th>\n",
       "      <td>N10002</td>\n",
       "      <td>news</td>\n",
       "      <td>newsus</td>\n",
       "      <td>Home In North Highlands Damaged By Fire</td>\n",
       "      <td>NORTH HIGHLANDS (CBS13)   Fire damaged a home ...</td>\n",
       "      <td>{}</td>\n",
       "      <td>{}</td>\n",
       "    </tr>\n",
       "    <tr>\n",
       "      <th>3</th>\n",
       "      <td>N10003</td>\n",
       "      <td>news</td>\n",
       "      <td>newspolitics</td>\n",
       "      <td>Meghan McCain blames 'liberal media' and 'thir...</td>\n",
       "      <td>Meghan McCain is speaking out after a journali...</td>\n",
       "      <td>{}</td>\n",
       "      <td>{}</td>\n",
       "    </tr>\n",
       "    <tr>\n",
       "      <th>4</th>\n",
       "      <td>N10004</td>\n",
       "      <td>news</td>\n",
       "      <td>newsworld</td>\n",
       "      <td>Today in History: Aug 1</td>\n",
       "      <td>1714: George I becomes King Georg Ludwig, Elec...</td>\n",
       "      <td>{}</td>\n",
       "      <td>{}</td>\n",
       "    </tr>\n",
       "    <tr>\n",
       "      <th>...</th>\n",
       "      <td>...</td>\n",
       "      <td>...</td>\n",
       "      <td>...</td>\n",
       "      <td>...</td>\n",
       "      <td>...</td>\n",
       "      <td>...</td>\n",
       "      <td>...</td>\n",
       "    </tr>\n",
       "    <tr>\n",
       "      <th>113757</th>\n",
       "      <td>N123757</td>\n",
       "      <td>sports</td>\n",
       "      <td>soccer_fifa_wwc</td>\n",
       "      <td>Hope who? Alyssa Naeher's penalty save sends U...</td>\n",
       "      <td>LYON, France   At the conclusion of the United...</td>\n",
       "      <td>{'USWNT': \"United States women's national socc...</td>\n",
       "      <td>{\"United States women's national soccer team\":...</td>\n",
       "    </tr>\n",
       "    <tr>\n",
       "      <th>113758</th>\n",
       "      <td>N123758</td>\n",
       "      <td>sports</td>\n",
       "      <td>baseball_mlb</td>\n",
       "      <td>Chris Sale Explains What Specifically Has Gone...</td>\n",
       "      <td>The first half of Chris Sale's season could be...</td>\n",
       "      <td>{}</td>\n",
       "      <td>{}</td>\n",
       "    </tr>\n",
       "    <tr>\n",
       "      <th>113759</th>\n",
       "      <td>N123759</td>\n",
       "      <td>sports</td>\n",
       "      <td>basketball_nba_videos</td>\n",
       "      <td>Raptor fans jam streets to celebrate 1st NBA t...</td>\n",
       "      <td>Canadians are celebrating the country's first ...</td>\n",
       "      <td>{'NBA': 'National Basketball Association'}</td>\n",
       "      <td>{'National Basketball Association': {'type': '...</td>\n",
       "    </tr>\n",
       "    <tr>\n",
       "      <th>113760</th>\n",
       "      <td>N123760</td>\n",
       "      <td>news</td>\n",
       "      <td>newspolitics</td>\n",
       "      <td>Judge won't allow Flynn to fire his attorneys</td>\n",
       "      <td>A federal judge denied the request by Michael ...</td>\n",
       "      <td>{'Flynn': 'Michael Flynn'}</td>\n",
       "      <td>{'Michael Flynn': {'type': 'item', 'id': 'Q683...</td>\n",
       "    </tr>\n",
       "    <tr>\n",
       "      <th>113761</th>\n",
       "      <td>N123761</td>\n",
       "      <td>sports</td>\n",
       "      <td>football_nfl</td>\n",
       "      <td>Worley thinks he and Conley will rival greates...</td>\n",
       "      <td>Confidence imparts a wonderful inspiration on ...</td>\n",
       "      <td>{'Conley': 'Mike Conley Jr.'}</td>\n",
       "      <td>{'Mike Conley Jr.': {'type': 'item', 'id': 'Q9...</td>\n",
       "    </tr>\n",
       "  </tbody>\n",
       "</table>\n",
       "<p>113762 rows × 7 columns</p>\n",
       "</div>"
      ],
      "text/plain": [
       "        News ID Category                  Topic  \\\n",
       "0        N10000   sports                 soccer   \n",
       "1        N10001     news           newspolitics   \n",
       "2        N10002     news                 newsus   \n",
       "3        N10003     news           newspolitics   \n",
       "4        N10004     news              newsworld   \n",
       "...         ...      ...                    ...   \n",
       "113757  N123757   sports        soccer_fifa_wwc   \n",
       "113758  N123758   sports           baseball_mlb   \n",
       "113759  N123759   sports  basketball_nba_videos   \n",
       "113760  N123760     news           newspolitics   \n",
       "113761  N123761   sports           football_nfl   \n",
       "\n",
       "                                                 Headline  \\\n",
       "0       Predicting Atlanta United's lineup against Col...   \n",
       "1       Mitch McConnell: DC statehood push is 'full bo...   \n",
       "2                 Home In North Highlands Damaged By Fire   \n",
       "3       Meghan McCain blames 'liberal media' and 'thir...   \n",
       "4                                 Today in History: Aug 1   \n",
       "...                                                   ...   \n",
       "113757  Hope who? Alyssa Naeher's penalty save sends U...   \n",
       "113758  Chris Sale Explains What Specifically Has Gone...   \n",
       "113759  Raptor fans jam streets to celebrate 1st NBA t...   \n",
       "113760      Judge won't allow Flynn to fire his attorneys   \n",
       "113761  Worley thinks he and Conley will rival greates...   \n",
       "\n",
       "                                                News body  \\\n",
       "0       Only FIVE internationals allowed, count em, FI...   \n",
       "1       WASHINGTON -- Senate Majority Leader Mitch McC...   \n",
       "2       NORTH HIGHLANDS (CBS13)   Fire damaged a home ...   \n",
       "3       Meghan McCain is speaking out after a journali...   \n",
       "4       1714: George I becomes King Georg Ludwig, Elec...   \n",
       "...                                                   ...   \n",
       "113757  LYON, France   At the conclusion of the United...   \n",
       "113758  The first half of Chris Sale's season could be...   \n",
       "113759  Canadians are celebrating the country's first ...   \n",
       "113760  A federal judge denied the request by Michael ...   \n",
       "113761  Confidence imparts a wonderful inspiration on ...   \n",
       "\n",
       "                                             Title entity  \\\n",
       "0               {\"Atlanta United's\": 'Atlanta United FC'}   \n",
       "1                              {'DC': 'Washington, D.C.'}   \n",
       "2                                                      {}   \n",
       "3                                                      {}   \n",
       "4                                                      {}   \n",
       "...                                                   ...   \n",
       "113757  {'USWNT': \"United States women's national socc...   \n",
       "113758                                                 {}   \n",
       "113759         {'NBA': 'National Basketball Association'}   \n",
       "113760                         {'Flynn': 'Michael Flynn'}   \n",
       "113761                      {'Conley': 'Mike Conley Jr.'}   \n",
       "\n",
       "                                           Entity content  \n",
       "0       {'Atlanta United FC': {'type': 'item', 'id': '...  \n",
       "1       {'Washington, D.C.': {'type': 'item', 'id': 'Q...  \n",
       "2                                                      {}  \n",
       "3                                                      {}  \n",
       "4                                                      {}  \n",
       "...                                                   ...  \n",
       "113757  {\"United States women's national soccer team\":...  \n",
       "113758                                                 {}  \n",
       "113759  {'National Basketball Association': {'type': '...  \n",
       "113760  {'Michael Flynn': {'type': 'item', 'id': 'Q683...  \n",
       "113761  {'Mike Conley Jr.': {'type': 'item', 'id': 'Q9...  \n",
       "\n",
       "[113762 rows x 7 columns]"
      ]
     },
     "execution_count": 7,
     "metadata": {},
     "output_type": "execute_result"
    }
   ],
   "source": [
    "news_df"
   ]
  },
  {
   "cell_type": "code",
   "execution_count": 33,
   "id": "c323fa9d",
   "metadata": {},
   "outputs": [
    {
     "data": {
      "text/plain": [
       "\"{'Mexico': {'type': 'item', 'id': 'Q78260854', 'labels': {'en': {'language': 'en', 'value': 'Mexico'}, 'bn': {'language': 'bn', 'value': 'মেক্সিকো'}}, 'descriptions': {'en': {'language': 'en', 'value': 'scientific article published on 01 September 1984'}, 'de': {'language': 'de', 'value': 'im September 1984 veröffentlichter wissenschaftlicher Artikel'}, 'ast': {'language': 'ast', 'value': 'artículu científicu espublizáu en 1984'}}, 'aliases': {}, 'claims': {'P1433': [{'mainsnak': {'snaktype': 'value', 'property': 'P1433', 'datavalue': {'value': {'entity-type': 'item', 'numeric-id': 27717682, 'id': 'Q27717682'}, 'type': 'wikibase-entityid'}, 'datatype': 'wikibase-item'}, 'type': 'statement', 'id': 'Q78260854$131CBD28-D82A-456C-96EB-8F7AABCC3762', 'rank': 'normal', 'references': [{'hash': '622452c68dbe9d69245463da07be5bf73d4eda03', 'snaks': {'P248': [{'snaktype': 'value', 'property': 'P248', 'datavalue': {'value': {'entity-type': 'item', 'numeric-id': 5412157, 'id': 'Q5412157'}, 'type': 'wikibase-entityid'}, 'datatype': 'wikibase-item'}], 'P698': [{'snaktype': 'value', 'property': 'P698', 'datavalue': {'value': '12339665', 'type': 'string'}, 'datatype': 'external-id'}], 'P854': [{'snaktype': 'value', 'property': 'P854', 'datavalue': {'value': 'https://www.ebi.ac.uk/europepmc/webservices/rest/search?query=EXT_ID:12339665%20AND%20SRC:MED&resulttype=core&format=json', 'type': 'string'}, 'datatype': 'url'}], 'P813': [{'snaktype': 'value', 'property': 'P813', 'datavalue': {'value': {'time': '+2019-12-13T00:00:00Z', 'timezone': 0, 'before': 0, 'after': 0, 'precision': 11, 'calendarmodel': 'http://www.wikidata.org/entity/Q1985727'}, 'type': 'time'}, 'datatype': 'time'}]}, 'snaks-order': ['P248', 'P698', 'P854', 'P813']}]}], 'P1476': [{'mainsnak': {'snaktype': 'value', 'property': 'P1476', 'datavalue': {'value': {'text': 'Mexico', 'language': 'en'}, 'type': 'monolingualtext'}, 'datatype': 'monolingualtext'}, 'type': 'statement', 'id': 'Q78260854$16DDA879-A172-4FCC-AC88-836D8C092216', 'rank': 'normal', 'references': [{'hash': '622452c68dbe9d69245463da07be5bf73d4eda03', 'snaks': {'P248': [{'snaktype': 'value', 'property': 'P248', 'datavalue': {'value': {'entity-type': 'item', 'numeric-id': 5412157, 'id': 'Q5412157'}, 'type': 'wikibase-entityid'}, 'datatype': 'wikibase-item'}], 'P698': [{'snaktype': 'value', 'property': 'P698', 'datavalue': {'value': '12339665', 'type': 'string'}, 'datatype': 'external-id'}], 'P854': [{'snaktype': 'value', 'property': 'P854', 'datavalue': {'value': 'https://www.ebi.ac.uk/europepmc/webservices/rest/search?query=EXT_ID:12339665%20AND%20SRC:MED&resulttype=core&format=json', 'type': 'string'}, 'datatype': 'url'}], 'P813': [{'snaktype': 'value', 'property': 'P813', 'datavalue': {'value': {'time': '+2019-12-13T00:00:00Z', 'timezone': 0, 'before': 0, 'after': 0, 'precision': 11, 'calendarmodel': 'http://www.wikidata.org/entity/Q1985727'}, 'type': 'time'}, 'datatype': 'time'}]}, 'snaks-order': ['P248', 'P698', 'P854', 'P813']}]}], 'P304': [{'mainsnak': {'snaktype': 'value', 'property': 'P304', 'datavalue': {'value': '12', 'type': 'string'}, 'datatype': 'string'}, 'type': 'statement', 'id': 'Q78260854$12624B79-D83F-4673-90AD-CED1D4A462AF', 'rank': 'normal', 'references': [{'hash': '622452c68dbe9d69245463da07be5bf73d4eda03', 'snaks': {'P248': [{'snaktype': 'value', 'property': 'P248', 'datavalue': {'value': {'entity-type': 'item', 'numeric-id': 5412157, 'id': 'Q5412157'}, 'type': 'wikibase-entityid'}, 'datatype': 'wikibase-item'}], 'P698': [{'snaktype': 'value', 'property': 'P698', 'datavalue': {'value': '12339665', 'type': 'string'}, 'datatype': 'external-id'}], 'P854': [{'snaktype': 'value', 'property': 'P854', 'datavalue': {'value': 'https://www.ebi.ac.uk/europepmc/webservices/rest/search?query=EXT_ID:12339665%20AND%20SRC:MED&resulttype=core&format=json', 'type': 'string'}, 'datatype': 'url'}], 'P813': [{'snaktype': 'value', 'property': 'P813', 'datavalue': {'value': {'time': '+2019-12-13T00:00:00Z', 'timezone': 0, 'before': 0, 'after': 0, 'precision': 11, 'calendarmodel': 'http://www.wikidata.org/entity/Q1985727'}, 'type': 'time'}, 'datatype': 'time'}]}, 'snaks-order': ['P248', 'P698', 'P854', 'P813']}]}], 'P31': [{'mainsnak': {'snaktype': 'value', 'property': 'P31', 'datavalue': {'value': {'entity-type': 'item', 'numeric-id': 13442814, 'id': 'Q13442814'}, 'type': 'wikibase-entityid'}, 'datatype': 'wikibase-item'}, 'type': 'statement', 'id': 'Q78260854$4882A9B2-C797-4856-ABFA-ED9242A0C35E', 'rank': 'normal', 'references': [{'hash': '622452c68dbe9d69245463da07be5bf73d4eda03', 'snaks': {'P248': [{'snaktype': 'value', 'property': 'P248', 'datavalue': {'value': {'entity-type': 'item', 'numeric-id': 5412157, 'id': 'Q5412157'}, 'type': 'wikibase-entityid'}, 'datatype': 'wikibase-item'}], 'P698': [{'snaktype': 'value', 'property': 'P698', 'datavalue': {'value': '12339665', 'type': 'string'}, 'datatype': 'external-id'}], 'P854': [{'snaktype': 'value', 'property': 'P854', 'datavalue': {'value': 'https://www.ebi.ac.uk/europepmc/webservices/rest/search?query=EXT_ID:12339665%20AND%20SRC:MED&resulttype=core&format=json', 'type': 'string'}, 'datatype': 'url'}], 'P813': [{'snaktype': 'value', 'property': 'P813', 'datavalue': {'value': {'time': '+2019-12-13T00:00:00Z', 'timezone': 0, 'before': 0, 'after': 0, 'precision': 11, 'calendarmodel': 'http://www.wikidata.org/entity/Q1985727'}, 'type': 'time'}, 'datatype': 'time'}]}, 'snaks-order': ['P248', 'P698', 'P854', 'P813']}]}], 'P433': [{'mainsnak': {'snaktype': 'value', 'property': 'P433', 'datavalue': {'value': '9', 'type': 'string'}, 'datatype': 'string'}, 'type': 'statement', 'id': 'Q78260854$640F5F6C-56A6-4A82-B80E-11ED1689366E', 'rank': 'normal', 'references': [{'hash': '622452c68dbe9d69245463da07be5bf73d4eda03', 'snaks': {'P248': [{'snaktype': 'value', 'property': 'P248', 'datavalue': {'value': {'entity-type': 'item', 'numeric-id': 5412157, 'id': 'Q5412157'}, 'type': 'wikibase-entityid'}, 'datatype': 'wikibase-item'}], 'P698': [{'snaktype': 'value', 'property': 'P698', 'datavalue': {'value': '12339665', 'type': 'string'}, 'datatype': 'external-id'}], 'P854': [{'snaktype': 'value', 'property': 'P854', 'datavalue': {'value': 'https://www.ebi.ac.uk/europepmc/webservices/rest/search?query=EXT_ID:12339665%20AND%20SRC:MED&resulttype=core&format=json', 'type': 'string'}, 'datatype': 'url'}], 'P813': [{'snaktype': 'value', 'property': 'P813', 'datavalue': {'value': {'time': '+2019-12-13T00:00:00Z', 'timezone': 0, 'before': 0, 'after': 0, 'precision': 11, 'calendarmodel': 'http://www.wikidata.org/entity/Q1985727'}, 'type': 'time'}, 'datatype': 'time'}]}, 'snaks-order': ['P248', 'P698', 'P854', 'P813']}]}], 'P478': [{'mainsnak': {'snaktype': 'value', 'property': 'P478', 'datavalue': {'value': '12', 'type': 'string'}, 'datatype': 'string'}, 'type': 'statement', 'id': 'Q78260854$CB8DD3C8-8CA3-4028-BC02-F9680CE1B46D', 'rank': 'normal', 'references': [{'hash': '622452c68dbe9d69245463da07be5bf73d4eda03', 'snaks': {'P248': [{'snaktype': 'value', 'property': 'P248', 'datavalue': {'value': {'entity-type': 'item', 'numeric-id': 5412157, 'id': 'Q5412157'}, 'type': 'wikibase-entityid'}, 'datatype': 'wikibase-item'}], 'P698': [{'snaktype': 'value', 'property': 'P698', 'datavalue': {'value': '12339665', 'type': 'string'}, 'datatype': 'external-id'}], 'P854': [{'snaktype': 'value', 'property': 'P854', 'datavalue': {'value': 'https://www.ebi.ac.uk/europepmc/webservices/rest/search?query=EXT_ID:12339665%20AND%20SRC:MED&resulttype=core&format=json', 'type': 'string'}, 'datatype': 'url'}], 'P813': [{'snaktype': 'value', 'property': 'P813', 'datavalue': {'value': {'time': '+2019-12-13T00:00:00Z', 'timezone': 0, 'before': 0, 'after': 0, 'precision': 11, 'calendarmodel': 'http://www.wikidata.org/entity/Q1985727'}, 'type': 'time'}, 'datatype': 'time'}]}, 'snaks-order': ['P248', 'P698', 'P854', 'P813']}]}], 'P577': [{'mainsnak': {'snaktype': 'value', 'property': 'P577', 'datavalue': {'value': {'time': '+1984-09-01T00:00:00Z', 'timezone': 0, 'before': 0, 'after': 0, 'precision': 11, 'calendarmodel': 'http://www.wikidata.org/entity/Q1985727'}, 'type': 'time'}, 'datatype': 'time'}, 'type': 'statement', 'id': 'Q78260854$83F73BDE-809B-4046-9E66-6F676057162E', 'rank': 'normal', 'references': [{'hash': '622452c68dbe9d69245463da07be5bf73d4eda03', 'snaks': {'P248': [{'snaktype': 'value', 'property': 'P248', 'datavalue': {'value': {'entity-type': 'item', 'numeric-id': 5412157, 'id': 'Q5412157'}, 'type': 'wikibase-entityid'}, 'datatype': 'wikibase-item'}], 'P698': [{'snaktype': 'value', 'property': 'P698', 'datavalue': {'value': '12339665', 'type': 'string'}, 'datatype': 'external-id'}], 'P854': [{'snaktype': 'value', 'property': 'P854', 'datavalue': {'value': 'https://www.ebi.ac.uk/europepmc/webservices/rest/search?query=EXT_ID:12339665%20AND%20SRC:MED&resulttype=core&format=json', 'type': 'string'}, 'datatype': 'url'}], 'P813': [{'snaktype': 'value', 'property': 'P813', 'datavalue': {'value': {'time': '+2019-12-13T00:00:00Z', 'timezone': 0, 'before': 0, 'after': 0, 'precision': 11, 'calendarmodel': 'http://www.wikidata.org/entity/Q1985727'}, 'type': 'time'}, 'datatype': 'time'}]}, 'snaks-order': ['P248', 'P698', 'P854', 'P813']}]}], 'P698': [{'mainsnak': {'snaktype': 'value', 'property': 'P698', 'datavalue': {'value': '12339665', 'type': 'string'}, 'datatype': 'external-id'}, 'type': 'statement', 'id': 'Q78260854$30D62D12-4B06-424C-8146-54A5FD2C4923', 'rank': 'normal', 'references': [{'hash': '622452c68dbe9d69245463da07be5bf73d4eda03', 'snaks': {'P248': [{'snaktype': 'value', 'property': 'P248', 'datavalue': {'value': {'entity-type': 'item', 'numeric-id': 5412157, 'id': 'Q5412157'}, 'type': 'wikibase-entityid'}, 'datatype': 'wikibase-item'}], 'P698': [{'snaktype': 'value', 'property': 'P698', 'datavalue': {'value': '12339665', 'type': 'string'}, 'datatype': 'external-id'}], 'P854': [{'snaktype': 'value', 'property': 'P854', 'datavalue': {'value': 'https://www.ebi.ac.uk/europepmc/webservices/rest/search?query=EXT_ID:12339665%20AND%20SRC:MED&resulttype=core&format=json', 'type': 'string'}, 'datatype': 'url'}], 'P813': [{'snaktype': 'value', 'property': 'P813', 'datavalue': {'value': {'time': '+2019-12-13T00:00:00Z', 'timezone': 0, 'before': 0, 'after': 0, 'precision': 11, 'calendarmodel': 'http://www.wikidata.org/entity/Q1985727'}, 'type': 'time'}, 'datatype': 'time'}]}, 'snaks-order': ['P248', 'P698', 'P854', 'P813']}]}]}, 'sitelinks': {}, 'lastrevid': 1435757754}, 'Restaurant': {'type': 'item', 'id': 'Q64571428', 'labels': {'en': {'language': 'en', 'value': 'Restaurant'}}, 'descriptions': {'en': {'language': 'en', 'value': 'drawing in the National Gallery of Art (NGA 40089)'}, 'ga': {'language': 'ga', 'value': 'líníocht i nGailearaí Náisiúnta na hEalaíne in Washington, D.C. (NGA 40089)'}}, 'aliases': {}, 'claims': {'P4683': [{'mainsnak': {'snaktype': 'value', 'property': 'P4683', 'datavalue': {'value': '40089', 'type': 'string'}, 'datatype': 'external-id'}, 'type': 'statement', 'id': 'Q64571428$EF800E49-F455-45ED-B9A2-EB36ADC11EED', 'rank': 'normal', 'references': [{'hash': 'b26cf673b9619c84a9d12b9ba05f167127d1239c', 'snaks': {'P854': [{'snaktype': 'value', 'property': 'P854', 'datavalue': {'value': 'https://purl.org/nga/collection/artobject/40089', 'type': 'string'}, 'datatype': 'url'}]}, 'snaks-order': ['P854']}]}], 'P6108': [{'mainsnak': {'snaktype': 'value', 'property': 'P6108', 'datavalue': {'value': 'https://www.nga.gov/api/v1/iiif/presentation/manifest.json?cultObj:id=40089', 'type': 'string'}, 'datatype': 'url'}, 'type': 'statement', 'id': 'Q64571428$4C42DE14-76E9-45BF-A6E9-E5B95DD40F3E', 'rank': 'normal'}], 'P276': [{'mainsnak': {'snaktype': 'value', 'property': 'P276', 'datavalue': {'value': {'entity-type': 'item', 'numeric-id': 214867, 'id': 'Q214867'}, 'type': 'wikibase-entityid'}, 'datatype': 'wikibase-item'}, 'type': 'statement', 'id': 'Q64571428$BFBEE83C-D2B2-4676-B6DC-ACB025D251A7', 'rank': 'normal', 'references': [{'hash': 'b26cf673b9619c84a9d12b9ba05f167127d1239c', 'snaks': {'P854': [{'snaktype': 'value', 'property': 'P854', 'datavalue': {'value': 'https://purl.org/nga/collection/artobject/40089', 'type': 'string'}, 'datatype': 'url'}]}, 'snaks-order': ['P854']}]}], 'P195': [{'mainsnak': {'snaktype': 'value', 'property': 'P195', 'datavalue': {'value': {'entity-type': 'item', 'numeric-id': 214867, 'id': 'Q214867'}, 'type': 'wikibase-entityid'}, 'datatype': 'wikibase-item'}, 'type': 'statement', 'id': 'Q64571428$E9B2C1D3-4EBD-441D-A1D7-96328054B619', 'rank': 'normal', 'references': [{'hash': 'b26cf673b9619c84a9d12b9ba05f167127d1239c', 'snaks': {'P854': [{'snaktype': 'value', 'property': 'P854', 'datavalue': {'value': 'https://purl.org/nga/collection/artobject/40089', 'type': 'string'}, 'datatype': 'url'}]}, 'snaks-order': ['P854']}]}, {'mainsnak': {'snaktype': 'value', 'property': 'P195', 'datavalue': {'value': {'entity-type': 'item', 'numeric-id': 64532898, 'id': 'Q64532898'}, 'type': 'wikibase-entityid'}, 'datatype': 'wikibase-item'}, 'type': 'statement', 'id': 'Q64571428$2C1FC97A-1CEB-4F04-BD65-9E5F2BF0BD1A', 'rank': 'normal', 'references': [{'hash': 'b26cf673b9619c84a9d12b9ba05f167127d1239c', 'snaks': {'P854': [{'snaktype': 'value', 'property': 'P854', 'datavalue': {'value': 'https://purl.org/nga/collection/artobject/40089', 'type': 'string'}, 'datatype': 'url'}]}, 'snaks-order': ['P854']}]}], 'P571': [{'mainsnak': {'snaktype': 'value', 'property': 'P571', 'datavalue': {'value': {'time': '+1925-01-01T00:00:00Z', 'timezone': 0, 'before': 0, 'after': 0, 'precision': 9, 'calendarmodel': 'http://www.wikidata.org/entity/Q1985727'}, 'type': 'time'}, 'datatype': 'time'}, 'type': 'statement', 'qualifiers': {'P1480': [{'snaktype': 'value', 'property': 'P1480', 'hash': 'cb40f2027a88b8d23735681aaccba1069a574f54', 'datavalue': {'value': {'entity-type': 'item', 'numeric-id': 5727902, 'id': 'Q5727902'}, 'type': 'wikibase-entityid'}, 'datatype': 'wikibase-item'}]}, 'qualifiers-order': ['P1480'], 'id': 'Q64571428$2EE9769C-AFA6-4B56-98EA-F10B6936DBE2', 'rank': 'normal', 'references': [{'hash': 'b26cf673b9619c84a9d12b9ba05f167127d1239c', 'snaks': {'P854': [{'snaktype': 'value', 'property': 'P854', 'datavalue': {'value': 'https://purl.org/nga/collection/artobject/40089', 'type': 'string'}, 'datatype': 'url'}]}, 'snaks-order': ['P854']}]}], 'P186': [{'mainsnak': {'snaktype': 'value', 'property': 'P186', 'datavalue': {'value': {'entity-type': 'item', 'numeric-id': 165447, 'id': 'Q165447'}, 'type': 'wikibase-entityid'}, 'datatype': 'wikibase-item'}, 'type': 'statement', 'id': 'Q64571428$EE1043C9-C9FF-457F-BBAB-C92F0B4B9D4C', 'rank': 'normal', 'references': [{'hash': 'b26cf673b9619c84a9d12b9ba05f167127d1239c', 'snaks': {'P854': [{'snaktype': 'value', 'property': 'P854', 'datavalue': {'value': 'https://purl.org/nga/collection/artobject/40089', 'type': 'string'}, 'datatype': 'url'}]}, 'snaks-order': ['P854']}]}, {'mainsnak': {'snaktype': 'value', 'property': 'P186', 'datavalue': {'value': {'entity-type': 'item', 'numeric-id': 12981547, 'id': 'Q12981547'}, 'type': 'wikibase-entityid'}, 'datatype': 'wikibase-item'}, 'type': 'statement', 'id': 'Q64571428$21CBE262-6379-4C5B-86CB-A337F058A657', 'rank': 'normal', 'references': [{'hash': 'b26cf673b9619c84a9d12b9ba05f167127d1239c', 'snaks': {'P854': [{'snaktype': 'value', 'property': 'P854', 'datavalue': {'value': 'https://purl.org/nga/collection/artobject/40089', 'type': 'string'}, 'datatype': 'url'}]}, 'snaks-order': ['P854']}]}], 'P1476': [{'mainsnak': {'snaktype': 'value', 'property': 'P1476', 'datavalue': {'value': {'text': 'Restaurant', 'language': 'en'}, 'type': 'monolingualtext'}, 'datatype': 'monolingualtext'}, 'type': 'statement', 'id': 'Q64571428$4B73A233-0799-4A66-9EFB-8FE823C72D7E', 'rank': 'normal', 'references': [{'hash': 'b26cf673b9619c84a9d12b9ba05f167127d1239c', 'snaks': {'P854': [{'snaktype': 'value', 'property': 'P854', 'datavalue': {'value': 'https://purl.org/nga/collection/artobject/40089', 'type': 'string'}, 'datatype': 'url'}]}, 'snaks-order': ['P854']}]}], 'P217': [{'mainsnak': {'snaktype': 'value', 'property': 'P217', 'datavalue': {'value': '1951.10.292', 'type': 'string'}, 'datatype': 'string'}, 'type': 'statement', 'qualifiers': {'P195': [{'snaktype': 'value', 'property': 'P195', 'hash': '72ddb9041a7bfb7f8b14391d611ec6089c54bc26', 'datavalue': {'value': {'entity-type': 'item', 'numeric-id': 214867, 'id': 'Q214867'}, 'type': 'wikibase-entityid'}, 'datatype': 'wikibase-item'}]}, 'qualifiers-order': ['P195'], 'id': 'Q64571428$A75237CC-86A6-42C0-AC18-FE49A91971A5', 'rank': 'normal', 'references': [{'hash': 'b26cf673b9619c84a9d12b9ba05f167127d1239c', 'snaks': {'P854': [{'snaktype': 'value', 'property': 'P854', 'datavalue': {'value': 'https://purl.org/nga/collection/artobject/40089', 'type': 'string'}, 'datatype': 'url'}]}, 'snaks-order': ['P854']}]}], 'P170': [{'mainsnak': {'snaktype': 'value', 'property': 'P170', 'datavalue': {'value': {'entity-type': 'item', 'numeric-id': 107194, 'id': 'Q107194'}, 'type': 'wikibase-entityid'}, 'datatype': 'wikibase-item'}, 'type': 'statement', 'id': 'Q64571428$27427AE7-BEF3-4DFE-9446-18416B79852D', 'rank': 'normal', 'references': [{'hash': 'b26cf673b9619c84a9d12b9ba05f167127d1239c', 'snaks': {'P854': [{'snaktype': 'value', 'property': 'P854', 'datavalue': {'value': 'https://purl.org/nga/collection/artobject/40089', 'type': 'string'}, 'datatype': 'url'}]}, 'snaks-order': ['P854']}]}], 'P31': [{'mainsnak': {'snaktype': 'value', 'property': 'P31', 'datavalue': {'value': {'entity-type': 'item', 'numeric-id': 93184, 'id': 'Q93184'}, 'type': 'wikibase-entityid'}, 'datatype': 'wikibase-item'}, 'type': 'statement', 'id': 'Q64571428$56AA91D2-4008-4169-B310-C9ABB290B54B', 'rank': 'normal', 'references': [{'hash': 'b26cf673b9619c84a9d12b9ba05f167127d1239c', 'snaks': {'P854': [{'snaktype': 'value', 'property': 'P854', 'datavalue': {'value': 'https://purl.org/nga/collection/artobject/40089', 'type': 'string'}, 'datatype': 'url'}]}, 'snaks-order': ['P854']}]}], 'P2048': [{'mainsnak': {'snaktype': 'value', 'property': 'P2048', 'datavalue': {'value': {'amount': '+64.9', 'unit': 'http://www.wikidata.org/entity/Q174728'}, 'type': 'quantity'}, 'datatype': 'quantity'}, 'type': 'statement', 'id': 'Q64571428$7FFD923B-C77A-4E15-9C4C-C95A2E70C245', 'rank': 'normal', 'references': [{'hash': 'b26cf673b9619c84a9d12b9ba05f167127d1239c', 'snaks': {'P854': [{'snaktype': 'value', 'property': 'P854', 'datavalue': {'value': 'https://purl.org/nga/collection/artobject/40089', 'type': 'string'}, 'datatype': 'url'}]}, 'snaks-order': ['P854']}]}], 'P2049': [{'mainsnak': {'snaktype': 'value', 'property': 'P2049', 'datavalue': {'value': {'amount': '+51.6', 'unit': 'http://www.wikidata.org/entity/Q174728'}, 'type': 'quantity'}, 'datatype': 'quantity'}, 'type': 'statement', 'id': 'Q64571428$E763F25A-DC08-414E-9C96-72645168F1AF', 'rank': 'normal', 'references': [{'hash': 'b26cf673b9619c84a9d12b9ba05f167127d1239c', 'snaks': {'P854': [{'snaktype': 'value', 'property': 'P854', 'datavalue': {'value': 'https://purl.org/nga/collection/artobject/40089', 'type': 'string'}, 'datatype': 'url'}]}, 'snaks-order': ['P854']}]}]}, 'sitelinks': {}, 'lastrevid': 1215541275}}\""
      ]
     },
     "execution_count": 33,
     "metadata": {},
     "output_type": "execute_result"
    }
   ],
   "source": [
    "news_df.iloc[8][\"Entity content\"]"
   ]
  },
  {
   "cell_type": "code",
   "execution_count": 34,
   "id": "b43bfb9d",
   "metadata": {},
   "outputs": [],
   "source": [
    "columns_to_drop = ['Title entity', 'Entity content']\n",
    "news_df.drop(columns=columns_to_drop, inplace=True)"
   ]
  },
  {
   "cell_type": "code",
   "execution_count": 36,
   "id": "b605c416",
   "metadata": {},
   "outputs": [],
   "source": [
    "news_df.to_csv('./data/news_PENS.csv', index=False)"
   ]
  },
  {
   "cell_type": "code",
   "execution_count": 8,
   "id": "92391075-868b-4d0f-a2dc-74dcdafece77",
   "metadata": {},
   "outputs": [],
   "source": [
    "import re\n",
    "def clean_text(text=\"\",database=\"Inspec\"):\n",
    "\n",
    "    #Specially for Duc2001 Database\n",
    "    if(database==\"Duc2001\" or database==\"Semeval2017\"):\n",
    "        pattern2 = re.compile(r'[\\s,]' + '[\\n]{1}')\n",
    "        while (True):\n",
    "            if (pattern2.search(text) is not None):\n",
    "                position = pattern2.search(text)\n",
    "                start = position.start()\n",
    "                end = position.end()\n",
    "                # start = int(position[0])\n",
    "                text_new = text[:start] + \"\\n\" + text[start + 2:]\n",
    "                text = text_new\n",
    "            else:\n",
    "                break\n",
    "\n",
    "    pattern2 = re.compile(r'[a-zA-Z0-9,\\s]' + '[\\n]{1}')\n",
    "    while (True):\n",
    "        if (pattern2.search(text) is not None):\n",
    "            position = pattern2.search(text)\n",
    "            start = position.start()\n",
    "            end = position.end()\n",
    "            # start = int(position[0])\n",
    "            text_new = text[:start + 1] + \" \" + text[start + 2:]\n",
    "            text = text_new\n",
    "        else:\n",
    "            break\n",
    "\n",
    "    pattern3 = re.compile(r'\\s{2,}')\n",
    "    while (True):\n",
    "        if (pattern3.search(text) is not None):\n",
    "            position = pattern3.search(text)\n",
    "            start = position.start()\n",
    "            end = position.end()\n",
    "            # start = int(position[0])\n",
    "            text_new = text[:start + 1] + \"\" + text[start + 2:]\n",
    "            text = text_new\n",
    "        else:\n",
    "            break\n",
    "\n",
    "    pattern1 = re.compile(r'[<>[\\]{}]')\n",
    "    text = pattern1.sub(' ', text)\n",
    "    text = text.replace(\"\\t\", \" \")\n",
    "    text = text.replace(' p ','\\n')\n",
    "    text = text.replace(' /p \\n','\\n')\n",
    "    lines = text.splitlines()\n",
    "    # delete blank line\n",
    "    text_new=\"\"\n",
    "    for line in lines:\n",
    "        if(line!='\\n'):\n",
    "            text_new+=line+'\\n'\n",
    "\n",
    "    return text_new"
   ]
  },
  {
   "cell_type": "code",
   "execution_count": 9,
   "id": "41b52455-ed0d-4f10-8e0a-3d3779b68aa4",
   "metadata": {},
   "outputs": [],
   "source": [
    "def get_PENS_data_from_df(df):\n",
    "    data = {}\n",
    "    labels = {}\n",
    "    for index, row in df.iterrows():\n",
    "        body = row['News body']\n",
    "        headline = row['Headline']\n",
    "        \n",
    "        # Check if body and headline are not NaN\n",
    "        if isinstance(body, str) and isinstance(headline, str):\n",
    "            body = clean_text(body, database=\"Semeval2017\").replace(\"%\", '').lower()\n",
    "            headline = clean_text(headline, database=\"Semeval2017\").replace(\"%\", '').lower()\n",
    "\n",
    "            data[row[\"News ID\"]] = body\n",
    "            labels[row[\"News ID\"]] = [headline]\n",
    "\n",
    "    return data, labels"
   ]
  },
  {
   "cell_type": "code",
   "execution_count": 10,
   "id": "b17500fd-ce14-4cbb-9587-fe55532a776a",
   "metadata": {},
   "outputs": [],
   "source": [
    "data, ref = get_PENS_data_from_df(news_df.head())"
   ]
  },
  {
   "cell_type": "code",
   "execution_count": 11,
   "id": "a93164f5-0e0b-4bc2-8d6b-4a59efb422a2",
   "metadata": {},
   "outputs": [
    {
     "data": {
      "text/plain": [
       "5"
      ]
     },
     "execution_count": 11,
     "metadata": {},
     "output_type": "execute_result"
    }
   ],
   "source": [
    "len(data)"
   ]
  },
  {
   "cell_type": "code",
   "execution_count": 12,
   "id": "16268dbb-e917-4ca7-a9f7-5d3c5dc02202",
   "metadata": {},
   "outputs": [
    {
     "data": {
      "text/plain": [
       "{'N10000': \"only five internationals allowed, count em, five! so first off we should say, per our usual atlanta united lineup predictions, this will be wrong. why will it be wrong? well, aside from the obvious, we still don't have a ton of data points from frank de boer in how he prefers to rotate his team for let's be honest an inferior competition. we've seen how he rotates (or doesn't rotate) in concacaf champions league play, but that's a bit different because ccl was clearly a priority for the club. we got one glimpse of u.s. open cup rotation last week when the team played a home game as the visiting team against the charleston battery, but will things change on the actual road against an mls club? here's my predicted lineup: let's talk about it: kann - seems like he's the cup keeper. simples. cbs - i think leandro gonzalez pirez is likely to be a casualty of the 5-international player limit. miles robinson is still young and probably isn't in need of much rest, and as far as international players go, you probably want those to be your most indispensable and/or attacking options in case things go awry. florentin pogba is still a fitness concern in his ability to go 90 minutes, but considering he started the last match and then was subbed out for tactical reasons before the 90 minutes were up, i think he'll be okay. lb: this could also be mikey ambrose instead of michael parkhurst. brek shea will almost certainly be rested after putting in a major shift last thursday. rb: not a ton of other options here, and i'd think de boer will want to see an improved performance from escobar. also, i think he may want to continue to pair escobar and pity down the right flank to allow them to continue to build a playing relationship. cm: eric remedi could start here for either cm. but based on frank de boer's stated preference on not chopping and changing between matches, i'm leaving the cms consistent from what we saw last week. am: again, shooting for consistency here, but i think inserting meram of pereira makes sense. pereira has struggled in his last couple outings relative to some glimpses we've seen. pereira is also an international, and if de boer wants to include ezequiel barco on the bench, he will need to shed one of his internationals from the last squad. st: we could very well see brandon vazquez here, primarily down to fitness concerns. romario williams gutted out 120 minutes last thursday and finished the game holding his groin, but he trained with the team fully on monday. vazquez came on as a sub and scored twice, but part of me thinks de boer will want to give his backup striker as many opportunities as possible to prove his worth. with three internationals in the starting lineup, i think eric remedi and ezequiel barco will round out the five maximum allowed. what do you think? let us know in the comments.\\n\",\n",
       " 'N10001': 'washington -- senate majority leader mitch mcconnell criticized the push to grant statehood to puerto rico and washington, d.c. in an interview on fox news with laura ingraham. \"they plan to make the district of columbia a state that\\'d give them two new democratic senators puerto rico a state, that would give them two more new democratic senators.  …  so this is full bore socialism on the march in the house. and yeah, as long as i\\'m the majority leader of the senate, none of that stuff is going anywhere.\" mcconnell didn\\'t elaborate on what he meant by that, specifically, nor did he clarify why adding an additional state would constitute socialism. socialism has become a hot button topic in recent months, with the election of several far-left democrats who identify as socialists, and with traditional gop leaders lambasting it. for what it\\'s worth, in 1985, economic theorist karl marx labeled socialism with this phrase: \"from each according to his ability, to each according to his needs.\" wusa9\\'s content partners at the washington post did an article explaining more in depth what exactly socialism is, which you can read here . mcconnell tweeted he is the \"grim reaper when it comes to stopping the democrats\\' socialist agenda.\" for the first time in decades, the house committee on oversight and reform will hold a hearing on d.c. statehood on july 24. related: representative steny hoyer announces support for dc statehood if passed, all eight district wards would turn into the state of washington, douglass commonwealth. but republicans believe the addition of two (presumably) democratic senators would unfairly tip the balance of power. despite the bill\\'s growing traction among local legislators who previously opposed the notion, like virginia senator mark warner and maryland representative steny hoyer, no republicans signed either the house or senate versions of the bill. the last states to join the union were alaska and hawaii, both in 1959. at the time, the prevailing thought was that hawaii would be a republican stronghold and would match with the admission of alaska, which was seen as a democratic stronghold. sign up for the get up dc newsletter : your forecast. your commute. your news.\\n',\n",
       " 'N10002': 'north highlands (cbs13) fire damaged a home in north highlands overnight. (credit: sacramento metro fire dept.) the fire burned at a mobile home on eureka lane. firefighters from sacramento metro fire department quickly arrived on scene and were able to put the fire out. one resident who lives at the home was able to get out unharmed. the cause of the fire is under investigation.\\n',\n",
       " 'N10003': 'meghan mccain is speaking out after a journalist criticized her over controversial t-shirts her husband, ben domenech, is selling on the federalist, the conservative media site he co-founded.\\n',\n",
       " 'N10004': '1714: george i becomes king georg ludwig, elector of hanover becomes george i king of great britain and ireland after the demise of queen anne of britain. 1798: battle of nile begins battle of nile, also known as the battle of aboukir bay, begins during which the british royal navy engages and destroys the french revolutionary naval fleet in a night attack. 1876: colorado admitted as a state u.s. president ulysses s. grant signs a proclamation admitting colorado to the union as the 38th state. 1936: 11th olympic games begin three years after the nazi party came into power, reich chancellor adolf hitler opens the games at the berlin olympic stadium in germany. 1944: ww ii - the warsaw uprising an uprising breaks out in warsaw, poland, against nazi occupation. 1957: us and canada form norad the north american air defense command (norad) is a pact created by the air forces of the united states and canada to provide aerospace warning, air sovereignty and protection to north america. 1966: university of texas shooting charles joseph whitman, 25, goes on an armed rampage at the university of texas in austin killing 14 people. 1981: mtv premieres rock music video channel mtv makes its debut in the united states and airs its first video, \"video killed the radio star\" by the buggles. 1996: michael johnson sets new record sprinter michael johnson breaks the world record in the 200 meters to win gold at the summer olympics in atlanta. 2007: interstate 35w bridge collapses the eight-lane interstate 35w bridge, a major minneapolis artery, collapses into the mississippi river during evening rush hour, killing 13 people.\\n'}"
      ]
     },
     "execution_count": 12,
     "metadata": {},
     "output_type": "execute_result"
    }
   ],
   "source": [
    "data"
   ]
  },
  {
   "cell_type": "code",
   "execution_count": 13,
   "id": "a07266ec-8ddd-472e-8ec3-70cd347576a6",
   "metadata": {},
   "outputs": [
    {
     "data": {
      "text/plain": [
       "{'N10000': [\"predicting atlanta united's lineup against columbus crew in the u.s. open cup\\n\"],\n",
       " 'N10001': [\"mitch mcconnell: dc statehood push is 'full bore socialism'\\n\"],\n",
       " 'N10002': ['home in north highlands damaged by fire\\n'],\n",
       " 'N10003': [\"meghan mccain blames 'liberal media' and 'third-wave feminism' after getting heat over husband's kamala harris t-shirts\\n\"],\n",
       " 'N10004': ['today in history: aug 1\\n']}"
      ]
     },
     "execution_count": 13,
     "metadata": {},
     "output_type": "execute_result"
    }
   ],
   "source": [
    "ref"
   ]
  },
  {
   "cell_type": "code",
   "execution_count": 14,
   "id": "0bd637c3-1780-4340-a213-276be04c5c57",
   "metadata": {},
   "outputs": [],
   "source": [
    "import pickle\n",
    "with open('./data/top_k_candidates.pkl', 'rb') as f:\n",
    "    top_k_candidates = pickle.load(f)"
   ]
  },
  {
   "cell_type": "code",
   "execution_count": 27,
   "id": "d8c3e637",
   "metadata": {},
   "outputs": [
    {
     "data": {
      "text/plain": [
       "['meghan mccain',\n",
       " 'ben domenech',\n",
       " 'journalist',\n",
       " 'husband',\n",
       " 'conservative media site',\n",
       " 'shirts']"
      ]
     },
     "execution_count": 27,
     "metadata": {},
     "output_type": "execute_result"
    }
   ],
   "source": [
    "top_k_candidates[3]"
   ]
  },
  {
   "cell_type": "code",
   "execution_count": 20,
   "id": "a809768d",
   "metadata": {},
   "outputs": [
    {
     "name": "stderr",
     "output_type": "stream",
     "text": [
      "d:\\KDM\\PromptRank\\.venv\\lib\\site-packages\\huggingface_hub\\file_download.py:1132: FutureWarning: `resume_download` is deprecated and will be removed in version 1.0.0. Downloads always resume when possible. If you want to force a new download, use `force_download=True`.\n",
      "  warnings.warn(\n"
     ]
    },
    {
     "name": "stdout",
     "output_type": "stream",
     "text": [
      "torch.Size([1, 512])\n"
     ]
    }
   ],
   "source": [
    "from transformers import T5Tokenizer, T5Model\n",
    "import torch\n",
    "\n",
    "# Load pre-trained model and tokenizer\n",
    "model_name = \"t5-small\"\n",
    "tokenizer = T5Tokenizer.from_pretrained(model_name)\n",
    "model = T5Model.from_pretrained(model_name)\n",
    "\n",
    "# Tokenize the input text\n",
    "text = \"This is a sample sentence to get embeddings from T5.\"\n",
    "inputs = tokenizer(text, return_tensors=\"pt\")\n",
    "\n",
    "# Prepare decoder input ids\n",
    "decoder_input_ids = tokenizer(\"summarize:\", return_tensors=\"pt\").input_ids\n",
    "\n",
    "# Get the hidden states from the model\n",
    "with torch.no_grad():\n",
    "    outputs = model(input_ids=inputs.input_ids, decoder_input_ids=decoder_input_ids, output_hidden_states=True)\n",
    "    hidden_states = outputs.encoder_hidden_states\n",
    "\n",
    "# Example: using the last layer's hidden state\n",
    "last_layer_hidden_state = hidden_states[-1]\n",
    "\n",
    "# Get embeddings for the first token\n",
    "embeddings = last_layer_hidden_state[:, 0, :]\n",
    "\n",
    "# Print the embeddings\n",
    "print(embeddings.shape)\n"
   ]
  },
  {
   "cell_type": "code",
   "execution_count": 41,
   "id": "0ee0768a",
   "metadata": {},
   "outputs": [
    {
     "name": "stdout",
     "output_type": "stream",
     "text": [
      "Cosine similarity between sentence 1 and 2: 0.9487608671188354\n",
      "Cosine similarity between sentence 1 and 3: 0.2564968466758728\n"
     ]
    }
   ],
   "source": [
    "from transformers import T5Tokenizer, T5Model\n",
    "import torch\n",
    "import torch.nn.functional as F\n",
    "\n",
    "def get_embeddings(text, model, tokenizer):\n",
    "    inputs = tokenizer(text, return_tensors=\"pt\")\n",
    "    decoder_input_ids = tokenizer(\"summarize:\", return_tensors=\"pt\").input_ids\n",
    "    \n",
    "    with torch.no_grad():\n",
    "        outputs = model(input_ids=inputs.input_ids, decoder_input_ids=decoder_input_ids, output_hidden_states=True)\n",
    "        hidden_states = outputs.encoder_hidden_states\n",
    "        last_layer_hidden_state = hidden_states[-1]\n",
    "        embeddings = last_layer_hidden_state[:, 0, :]  # First token embedding\n",
    "    return embeddings\n",
    "\n",
    "# Load pre-trained model and tokenizer\n",
    "model_name = \"t5-small\"\n",
    "tokenizer = T5Tokenizer.from_pretrained(model_name)\n",
    "model = T5Model.from_pretrained(model_name)\n",
    "\n",
    "# Example sentences\n",
    "sentence1 = \"I love playing football.\"\n",
    "sentence2 = \"I enjoy playing soccer.\"\n",
    "sentence3 = \"The weather is sunny today.\"\n",
    "\n",
    "# Get embeddings\n",
    "embedding1 = get_embeddings(sentence1, model, tokenizer)\n",
    "embedding2 = get_embeddings(sentence2, model, tokenizer)\n",
    "embedding3 = get_embeddings(sentence3, model, tokenizer)\n",
    "\n",
    "# Compute cosine similarity\n",
    "cosine_similarity_1_2 = F.cosine_similarity(embedding1, embedding2)\n",
    "cosine_similarity_1_3 = F.cosine_similarity(embedding1, embedding3)\n",
    "\n",
    "# Print the cosine similarities\n",
    "print(f\"Cosine similarity between sentence 1 and 2: {cosine_similarity_1_2.item()}\")\n",
    "print(f\"Cosine similarity between sentence 1 and 3: {cosine_similarity_1_3.item()}\")\n"
   ]
  },
  {
   "cell_type": "code",
   "execution_count": 44,
   "id": "3349faa5",
   "metadata": {},
   "outputs": [
    {
     "name": "stdout",
     "output_type": "stream",
     "text": [
      "Cosine similarity between news 1 and 2: 0.9219\n",
      "Cosine similarity between news 1 and 3: 0.6998\n"
     ]
    }
   ],
   "source": [
    "from transformers import T5Tokenizer, T5Model\n",
    "import torch\n",
    "import torch.nn.functional as F\n",
    "\n",
    "def get_mean_embedding(text, model, tokenizer):\n",
    "    inputs = tokenizer(text, return_tensors=\"pt\")\n",
    "    decoder_input_ids = tokenizer(\"summarize:\", return_tensors=\"pt\").input_ids\n",
    "    \n",
    "    with torch.no_grad():\n",
    "        outputs = model(input_ids=inputs.input_ids, decoder_input_ids=decoder_input_ids, output_hidden_states=True)\n",
    "        hidden_states = outputs.encoder_hidden_states\n",
    "        last_layer_hidden_state = hidden_states[-1]\n",
    "        mean_embedding = torch.mean(last_layer_hidden_state, dim=1)  # Mean of all token embeddings\n",
    "    return mean_embedding\n",
    "\n",
    "# Load pre-trained model and tokenizer\n",
    "model_name = \"t5-small\"\n",
    "tokenizer = T5Tokenizer.from_pretrained(model_name)\n",
    "model = T5Model.from_pretrained(model_name)\n",
    "\n",
    "# Example news summaries\n",
    "news1 = \"The stock market experienced a notable surge today, driven by unexpectedly strong economic data. Analysts reported that the GDP growth exceeded expectations, leading to increased investor confidence. Major indices closed at record highs, reflecting optimism about the economic recovery.\"\n",
    "news2 = \"Today's stock market rally was fueled by surprisingly positive economic reports. The GDP figures surpassed predictions, boosting investor morale and driving major indices to all-time highs. Financial experts are now more hopeful about the pace of the economic rebound.\"\n",
    "news3 = \"In a groundbreaking medical advancement, scientists have developed a new gene therapy technique that shows promise in treating a range of genetic disorders. The therapy, which has been successfully tested in mice, is expected to enter human trials next year. Researchers are optimistic that this could lead to cures for previously untreatable conditions.\"\n",
    "\n",
    "# Get embeddings\n",
    "embedding1 = get_mean_embedding(news1, model, tokenizer)\n",
    "embedding2 = get_mean_embedding(news2, model, tokenizer)\n",
    "embedding3 = get_mean_embedding(news3, model, tokenizer)\n",
    "\n",
    "# Compute cosine similarity\n",
    "cosine_similarity_1_2 = F.cosine_similarity(embedding1, embedding2).item()\n",
    "cosine_similarity_1_3 = F.cosine_similarity(embedding1, embedding3).item()\n",
    "\n",
    "# Print the cosine similarities\n",
    "print(f\"Cosine similarity between news 1 and 2: {cosine_similarity_1_2:.4f}\")\n",
    "print(f\"Cosine similarity between news 1 and 3: {cosine_similarity_1_3:.4f}\")\n"
   ]
  },
  {
   "cell_type": "markdown",
   "id": "fa61522a",
   "metadata": {},
   "source": [
    "# PromptRank Seeding"
   ]
  },
  {
   "cell_type": "markdown",
   "id": "3dca63a5",
   "metadata": {},
   "source": [
    "## Load Required Dataset (`news_PENS.csv`)"
   ]
  },
  {
   "cell_type": "code",
   "execution_count": 10,
   "id": "f9e85d98",
   "metadata": {},
   "outputs": [],
   "source": [
    "import pandas as pd\n",
    "import csv\n",
    "csv.field_size_limit(10**7)\n",
    "news_df = pd.read_csv('./data/news_PENS.csv', engine='python')"
   ]
  },
  {
   "cell_type": "code",
   "execution_count": 11,
   "id": "899bb5df",
   "metadata": {},
   "outputs": [
    {
     "data": {
      "text/html": [
       "<div>\n",
       "<style scoped>\n",
       "    .dataframe tbody tr th:only-of-type {\n",
       "        vertical-align: middle;\n",
       "    }\n",
       "\n",
       "    .dataframe tbody tr th {\n",
       "        vertical-align: top;\n",
       "    }\n",
       "\n",
       "    .dataframe thead th {\n",
       "        text-align: right;\n",
       "    }\n",
       "</style>\n",
       "<table border=\"1\" class=\"dataframe\">\n",
       "  <thead>\n",
       "    <tr style=\"text-align: right;\">\n",
       "      <th></th>\n",
       "      <th>News ID</th>\n",
       "      <th>Category</th>\n",
       "      <th>Topic</th>\n",
       "      <th>Headline</th>\n",
       "      <th>News body</th>\n",
       "    </tr>\n",
       "  </thead>\n",
       "  <tbody>\n",
       "    <tr>\n",
       "      <th>0</th>\n",
       "      <td>N10000</td>\n",
       "      <td>sports</td>\n",
       "      <td>soccer</td>\n",
       "      <td>Predicting Atlanta United's lineup against Col...</td>\n",
       "      <td>Only FIVE internationals allowed, count em, FI...</td>\n",
       "    </tr>\n",
       "    <tr>\n",
       "      <th>1</th>\n",
       "      <td>N10001</td>\n",
       "      <td>news</td>\n",
       "      <td>newspolitics</td>\n",
       "      <td>Mitch McConnell: DC statehood push is 'full bo...</td>\n",
       "      <td>WASHINGTON -- Senate Majority Leader Mitch McC...</td>\n",
       "    </tr>\n",
       "    <tr>\n",
       "      <th>2</th>\n",
       "      <td>N10002</td>\n",
       "      <td>news</td>\n",
       "      <td>newsus</td>\n",
       "      <td>Home In North Highlands Damaged By Fire</td>\n",
       "      <td>NORTH HIGHLANDS (CBS13)   Fire damaged a home ...</td>\n",
       "    </tr>\n",
       "    <tr>\n",
       "      <th>3</th>\n",
       "      <td>N10003</td>\n",
       "      <td>news</td>\n",
       "      <td>newspolitics</td>\n",
       "      <td>Meghan McCain blames 'liberal media' and 'thir...</td>\n",
       "      <td>Meghan McCain is speaking out after a journali...</td>\n",
       "    </tr>\n",
       "    <tr>\n",
       "      <th>4</th>\n",
       "      <td>N10004</td>\n",
       "      <td>news</td>\n",
       "      <td>newsworld</td>\n",
       "      <td>Today in History: Aug 1</td>\n",
       "      <td>1714: George I becomes King Georg Ludwig, Elec...</td>\n",
       "    </tr>\n",
       "    <tr>\n",
       "      <th>...</th>\n",
       "      <td>...</td>\n",
       "      <td>...</td>\n",
       "      <td>...</td>\n",
       "      <td>...</td>\n",
       "      <td>...</td>\n",
       "    </tr>\n",
       "    <tr>\n",
       "      <th>113757</th>\n",
       "      <td>N123757</td>\n",
       "      <td>sports</td>\n",
       "      <td>soccer_fifa_wwc</td>\n",
       "      <td>Hope who? Alyssa Naeher's penalty save sends U...</td>\n",
       "      <td>LYON, France   At the conclusion of the United...</td>\n",
       "    </tr>\n",
       "    <tr>\n",
       "      <th>113758</th>\n",
       "      <td>N123758</td>\n",
       "      <td>sports</td>\n",
       "      <td>baseball_mlb</td>\n",
       "      <td>Chris Sale Explains What Specifically Has Gone...</td>\n",
       "      <td>The first half of Chris Sale's season could be...</td>\n",
       "    </tr>\n",
       "    <tr>\n",
       "      <th>113759</th>\n",
       "      <td>N123759</td>\n",
       "      <td>sports</td>\n",
       "      <td>basketball_nba_videos</td>\n",
       "      <td>Raptor fans jam streets to celebrate 1st NBA t...</td>\n",
       "      <td>Canadians are celebrating the country's first ...</td>\n",
       "    </tr>\n",
       "    <tr>\n",
       "      <th>113760</th>\n",
       "      <td>N123760</td>\n",
       "      <td>news</td>\n",
       "      <td>newspolitics</td>\n",
       "      <td>Judge won't allow Flynn to fire his attorneys</td>\n",
       "      <td>A federal judge denied the request by Michael ...</td>\n",
       "    </tr>\n",
       "    <tr>\n",
       "      <th>113761</th>\n",
       "      <td>N123761</td>\n",
       "      <td>sports</td>\n",
       "      <td>football_nfl</td>\n",
       "      <td>Worley thinks he and Conley will rival greates...</td>\n",
       "      <td>Confidence imparts a wonderful inspiration on ...</td>\n",
       "    </tr>\n",
       "  </tbody>\n",
       "</table>\n",
       "<p>113762 rows × 5 columns</p>\n",
       "</div>"
      ],
      "text/plain": [
       "        News ID Category                  Topic  \\\n",
       "0        N10000   sports                 soccer   \n",
       "1        N10001     news           newspolitics   \n",
       "2        N10002     news                 newsus   \n",
       "3        N10003     news           newspolitics   \n",
       "4        N10004     news              newsworld   \n",
       "...         ...      ...                    ...   \n",
       "113757  N123757   sports        soccer_fifa_wwc   \n",
       "113758  N123758   sports           baseball_mlb   \n",
       "113759  N123759   sports  basketball_nba_videos   \n",
       "113760  N123760     news           newspolitics   \n",
       "113761  N123761   sports           football_nfl   \n",
       "\n",
       "                                                 Headline  \\\n",
       "0       Predicting Atlanta United's lineup against Col...   \n",
       "1       Mitch McConnell: DC statehood push is 'full bo...   \n",
       "2                 Home In North Highlands Damaged By Fire   \n",
       "3       Meghan McCain blames 'liberal media' and 'thir...   \n",
       "4                                 Today in History: Aug 1   \n",
       "...                                                   ...   \n",
       "113757  Hope who? Alyssa Naeher's penalty save sends U...   \n",
       "113758  Chris Sale Explains What Specifically Has Gone...   \n",
       "113759  Raptor fans jam streets to celebrate 1st NBA t...   \n",
       "113760      Judge won't allow Flynn to fire his attorneys   \n",
       "113761  Worley thinks he and Conley will rival greates...   \n",
       "\n",
       "                                                News body  \n",
       "0       Only FIVE internationals allowed, count em, FI...  \n",
       "1       WASHINGTON -- Senate Majority Leader Mitch McC...  \n",
       "2       NORTH HIGHLANDS (CBS13)   Fire damaged a home ...  \n",
       "3       Meghan McCain is speaking out after a journali...  \n",
       "4       1714: George I becomes King Georg Ludwig, Elec...  \n",
       "...                                                   ...  \n",
       "113757  LYON, France   At the conclusion of the United...  \n",
       "113758  The first half of Chris Sale's season could be...  \n",
       "113759  Canadians are celebrating the country's first ...  \n",
       "113760  A federal judge denied the request by Michael ...  \n",
       "113761  Confidence imparts a wonderful inspiration on ...  \n",
       "\n",
       "[113762 rows x 5 columns]"
      ]
     },
     "execution_count": 11,
     "metadata": {},
     "output_type": "execute_result"
    }
   ],
   "source": [
    "news_df"
   ]
  },
  {
   "cell_type": "code",
   "execution_count": 6,
   "id": "8dcdfe8b",
   "metadata": {},
   "outputs": [],
   "source": [
    "from transformers import T5Tokenizer, T5Model\n",
    "import torch\n",
    "import torch.nn.functional as F\n",
    "from transformers import T5Tokenizer, T5ForConditionalGeneration\n",
    "from tqdm import tqdm"
   ]
  },
  {
   "cell_type": "code",
   "execution_count": 13,
   "id": "5ea41f65",
   "metadata": {},
   "outputs": [],
   "source": [
    "# for testing only\n",
    "news_df_test = news_df.head()"
   ]
  },
  {
   "cell_type": "code",
   "execution_count": 17,
   "id": "3cc0dd42",
   "metadata": {},
   "outputs": [],
   "source": [
    "def get_embeddings(text, model, tokenizer):\n",
    "    inputs = tokenizer(text, return_tensors=\"pt\", truncation=True, padding='max_length', max_length=512)\n",
    "    decoder_input_ids = tokenizer(\"summarize:\", return_tensors=\"pt\").input_ids\n",
    "    \n",
    "    with torch.no_grad():\n",
    "        outputs = model(input_ids=inputs.input_ids, decoder_input_ids=decoder_input_ids, output_hidden_states=True)\n",
    "        hidden_states = outputs.encoder_hidden_states\n",
    "        last_layer_hidden_state = hidden_states[-1]\n",
    "        embeddings = last_layer_hidden_state[:, 0, :]  # First token embedding\n",
    "    return embeddings.squeeze().numpy()"
   ]
  },
  {
   "cell_type": "code",
   "execution_count": 18,
   "id": "4067542d",
   "metadata": {},
   "outputs": [
    {
     "name": "stderr",
     "output_type": "stream",
     "text": [
      "d:\\KDM\\PromptRank\\.venv\\lib\\site-packages\\huggingface_hub\\file_download.py:1132: FutureWarning: `resume_download` is deprecated and will be removed in version 1.0.0. Downloads always resume when possible. If you want to force a new download, use `force_download=True`.\n",
      "  warnings.warn(\n"
     ]
    }
   ],
   "source": [
    "tokenizer = T5Tokenizer.from_pretrained('t5-small')\n",
    "model = T5ForConditionalGeneration.from_pretrained('t5-small')"
   ]
  },
  {
   "cell_type": "code",
   "execution_count": 19,
   "id": "5f89a031",
   "metadata": {},
   "outputs": [
    {
     "name": "stderr",
     "output_type": "stream",
     "text": [
      "100%|██████████| 5/5 [00:00<00:00,  6.49it/s]\n",
      "C:\\Users\\borad\\AppData\\Local\\Temp\\ipykernel_30364\\2072860540.py:2: SettingWithCopyWarning: \n",
      "A value is trying to be set on a copy of a slice from a DataFrame.\n",
      "Try using .loc[row_indexer,col_indexer] = value instead\n",
      "\n",
      "See the caveats in the documentation: https://pandas.pydata.org/pandas-docs/stable/user_guide/indexing.html#returning-a-view-versus-a-copy\n",
      "  news_df_test['T5_Seed'] = news_df_test['News body'].progress_apply(lambda x: get_embeddings(x, model, tokenizer))\n"
     ]
    }
   ],
   "source": [
    "tqdm.pandas()\n",
    "news_df_test['T5_Seed'] = news_df_test['News body'].progress_apply(lambda x: get_embeddings(x, model, tokenizer))\n",
    "\n"
   ]
  },
  {
   "cell_type": "code",
   "execution_count": 22,
   "id": "f8f6f3b7",
   "metadata": {},
   "outputs": [
    {
     "data": {
      "text/plain": [
       "(512,)"
      ]
     },
     "execution_count": 22,
     "metadata": {},
     "output_type": "execute_result"
    }
   ],
   "source": [
    "news_df_test['T5_Seed'][0].shape"
   ]
  },
  {
   "cell_type": "code",
   "execution_count": null,
   "id": "94859ef8",
   "metadata": {},
   "outputs": [],
   "source": []
  }
 ],
 "metadata": {
  "kernelspec": {
   "display_name": "Python 3 (ipykernel)",
   "language": "python",
   "name": "python3"
  },
  "language_info": {
   "codemirror_mode": {
    "name": "ipython",
    "version": 3
   },
   "file_extension": ".py",
   "mimetype": "text/x-python",
   "name": "python",
   "nbconvert_exporter": "python",
   "pygments_lexer": "ipython3",
   "version": "3.8.0"
  }
 },
 "nbformat": 4,
 "nbformat_minor": 5
}
